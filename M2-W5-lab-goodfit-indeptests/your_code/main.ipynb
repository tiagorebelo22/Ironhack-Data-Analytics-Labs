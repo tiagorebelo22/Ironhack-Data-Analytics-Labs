{
 "cells": [
  {
   "cell_type": "markdown",
   "metadata": {},
   "source": [
    "## Question 1\n",
    "The following table indicates the number of 6-point scores in an American rugby match in the 1979 season.\n",
    "\n",
    "![](table1.png)\n",
    "\n",
    "Based on these results, we create a Poisson distribution with the sample mean parameter  = 2.435. Is there any reason to believe that at a .05 level the number of scores is a Poisson variable?"
   ]
  },
  {
   "cell_type": "code",
   "execution_count": 33,
   "metadata": {},
   "outputs": [],
   "source": [
    "import numpy as np\n",
    "import scipy.stats as st\n",
    "from scipy.stats import poisson\n",
    "from scipy.stats import binom\n",
    "\n"
   ]
  },
  {
   "cell_type": "code",
   "execution_count": 24,
   "metadata": {},
   "outputs": [
    {
     "data": {
      "text/plain": [
       "Power_divergenceResult(statistic=6.491310681109821, pvalue=0.4836889068537269)"
      ]
     },
     "execution_count": 24,
     "metadata": {},
     "output_type": "execute_result"
    }
   ],
   "source": [
    "# H0: The number of scores is a Poisson variable (with the sample mean parameter = 2.435)\n",
    "# H1: The number of scores is not a Poisson variable (with the sample mean parameter = 2.435)\n",
    "\n",
    "n = 448\n",
    "mean = 2.435\n",
    "O = np.array([35,99,104,110,62,25,10,3])\n",
    "\n",
    "poisson_dist = poisson(mean)\n",
    "poisson_pmfs = np.array([poisson_dist.pmf(i) for i in range(0,7)]) # up until 6\n",
    "seven_or_more = 1 - poisson_pmfs.sum()\n",
    "E = np.append(poisson_pmfs,seven_or_more)*n\n",
    "\n",
    "st.chisquare(f_obs = O, f_exp = E)\n",
    "\n",
    "# At a 0.05 confidence level, it is not possible to reject H0. As such, it seems that the number of scores is a Poisson variable (with the sample mean parameter = 2.435)\n"
   ]
  },
  {
   "cell_type": "markdown",
   "metadata": {},
   "source": [
    "## BONUS/OPTIONAL - Question 2\n",
    "Let's analyze a discrete distribution. To analyze the number of defective items in a factory in the city of Medellín, we took a random sample of n = 60 articles and observed the number of defectives in the following table:\n",
    "\n",
    "![](table2.png)\n",
    "\n",
    "A poissón distribution was proposed since it is defined for x = 0,1,2,3, .... using the following model:\n",
    "\n",
    "![](image1.png)\n",
    "\n",
    "For some extra insights check the following link: https://online.stat.psu.edu/stat504/node/63/ \n",
    "\n",
    "Does the distribution of defective items follow this distribution?"
   ]
  },
  {
   "cell_type": "code",
   "execution_count": 31,
   "metadata": {},
   "outputs": [
    {
     "data": {
      "text/plain": [
       "Power_divergenceResult(statistic=384310.78554880037, pvalue=0.0)"
      ]
     },
     "execution_count": 31,
     "metadata": {},
     "output_type": "execute_result"
    }
   ],
   "source": [
    "# H0: The number of defective items follow a Poisson distribution\n",
    "# H1: The number of defective items do not follow a Poisson distribution\n",
    "\n",
    "n = 60\n",
    "O = np.array([32,15,0,9,4,0]) # added 0 for 2 defective items and 0 for five or more defective items\n",
    "mean = np.mean(O)\n",
    "\n",
    "poisson_dist = poisson(mean)\n",
    "poisson_pmfs = np.array([poisson_dist.pmf(i) for i in [0,1,2,3,4]])\n",
    "five_or_more = 1 - poisson_pmfs.sum()\n",
    "E = np.append(poisson_pmfs,five_or_more)*n\n",
    "\n",
    "st.chisquare(f_obs = O, f_exp = E)\n",
    "\n",
    "# At a 0.05 confidence level, we can reject H0. As such, the number of defective items do not follow a Poisson distribution\n"
   ]
  },
  {
   "cell_type": "markdown",
   "metadata": {},
   "source": [
    "## Question 3\n",
    "A quality control engineer takes a sample of 10 tires that come out of an assembly line, and would like to verify on the basis of the data that follows, if the number of tires with defects observed over 200 days, if it is true that 5% of all tires have defects (that is, if the sample comes from a binomial population with n = 10 and p = 0.05). \n",
    "\n",
    "![](table3.png)\n"
   ]
  },
  {
   "cell_type": "code",
   "execution_count": 36,
   "metadata": {},
   "outputs": [
    {
     "data": {
      "text/plain": [
       "Power_divergenceResult(statistic=8.306179519542805, pvalue=0.015715783395950887)"
      ]
     },
     "execution_count": 36,
     "metadata": {},
     "output_type": "execute_result"
    }
   ],
   "source": [
    "# H0: The number of defective tires follows a binomial distribution with n = 10 and p = 0.05\n",
    "# H1: The number of defective tires does not follow a binomial distribution with n = 10 and p = 0.05\n",
    "\n",
    "number_observations = 200\n",
    "O = np.array([138,53,9]) \n",
    "\n",
    "n = 10\n",
    "p = 0.05\n",
    "binomial_dist = binom(n,p)\n",
    "\n",
    "binomial_pmfs = np.array([binomial_dist.pmf(i) for i in [0,1]])\n",
    "two_or_more = 1 - binomial_pmfs.sum()\n",
    "E = np.append(binomial_pmfs,two_or_more)*number_observations\n",
    "\n",
    "st.chisquare(f_obs = O, f_exp = E)\n",
    "\n",
    "# At a 0.05 confidence level, we can reject H0. As such, the number of defective tires does not follow a binomial distribution with n = 10 and p = 0.05\n",
    "\n"
   ]
  },
  {
   "cell_type": "markdown",
   "metadata": {},
   "source": [
    "## Question 4\n",
    "A researcher gathers information about the patterns of Physical Activity of children in the fifth grade of primary school of a public school. He defines three categories of physical activity (Low, Medium, High). He also inquires about the regular consumption of sugary drinks at school, and defines two categories (Yes = consumed, No = not consumed). We would like to evaluate if there is an association between patterns of physical activity and the consumption of sugary drinks for the children of this school, at a level of 5% significance. The results are in the following table: \n",
    "\n",
    "![](table4.png)"
   ]
  },
  {
   "cell_type": "code",
   "execution_count": 37,
   "metadata": {},
   "outputs": [
    {
     "data": {
      "text/plain": [
       "Chi2ContingencyResult(statistic=10.712198008709638, pvalue=0.004719280137040844, dof=2, expected_freq=array([[24.08421053, 19.91578947],\n",
       "       [19.70526316, 16.29473684],\n",
       "       [ 8.21052632,  6.78947368]]))"
      ]
     },
     "execution_count": 37,
     "metadata": {},
     "output_type": "execute_result"
    }
   ],
   "source": [
    "# H0: There is no association between patterns of physical activity and the consumption of sugary drinks\n",
    "# H1: There is an association between patterns of physical activity and the consumption of sugary drinks\n",
    "\n",
    "data = np.array([[32,12],\n",
    "                 [14,22],\n",
    "                 [6,9]])\n",
    "\n",
    "st.chi2_contingency(data)\n",
    "\n",
    "# We are able to reject the null hypothesis (p-value < 0.05). There is an association between patterns of physical activity and the consumption of sugary drinks\n"
   ]
  }
 ],
 "metadata": {
  "kernelspec": {
   "display_name": "Python 3 (ipykernel)",
   "language": "python",
   "name": "python3"
  },
  "language_info": {
   "codemirror_mode": {
    "name": "ipython",
    "version": 3
   },
   "file_extension": ".py",
   "mimetype": "text/x-python",
   "name": "python",
   "nbconvert_exporter": "python",
   "pygments_lexer": "ipython3",
   "version": "3.9.13"
  }
 },
 "nbformat": 4,
 "nbformat_minor": 2
}
